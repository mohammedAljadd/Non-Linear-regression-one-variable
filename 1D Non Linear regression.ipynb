{
 "cells": [
  {
   "cell_type": "markdown",
   "metadata": {},
   "source": [
    "# 1D Non linear regression : 2nd order polynomial regression"
   ]
  },
  {
   "cell_type": "code",
   "execution_count": 13,
   "metadata": {},
   "outputs": [],
   "source": [
    "import numpy as np\n",
    "import matplotlib.pyplot as plt\n",
    "\n",
    "#Variables\n",
    "m=100\n",
    "x = np.linspace(0, 10, m).reshape((m, 1))\n",
    "y = (x +np.random.randn(m, 1))**2\n",
    "X = np.hstack((np.ones(x.shape),x,x**2 ))\n",
    "theta = np.random.rand(3,1)\n",
    "itterations = 100\n",
    "alpha = 0.0001\n",
    "# J : to store at each itteration the cost\n",
    "J = np.zeros((itterations))\n",
    "\n",
    "# Hypothesis\n",
    "def h(theta):\n",
    "    return X.dot(theta)\n",
    "\n",
    "#Cost function\n",
    "def computeJ(theta):\n",
    "    return 1/(2*m)*np.sum(  (np.square( h(theta)-y) ) ) \n",
    "\n",
    "#Gradient\n",
    "def gradient(theta):\n",
    "    return (1/m)*X.T.dot(h(theta)-y)\n",
    "\n",
    "#Gradient descent\n",
    "def gradientDescent(alpha,itterations,theta):\n",
    "    for i in range(0,itterations):\n",
    "        J[i] = computeJ(theta)\n",
    "        theta = theta - alpha*gradient(theta)\n",
    "    return theta"
   ]
  },
  {
   "cell_type": "markdown",
   "metadata": {},
   "source": [
    "# Solution"
   ]
  },
  {
   "cell_type": "code",
   "execution_count": 15,
   "metadata": {},
   "outputs": [
    {
     "name": "stdout",
     "output_type": "stream",
     "text": [
      "θ0= [0.21950914] ,θ1= [0.99949936] θ2= [0.9049204] \n",
      "J(θ)= 46.2538834525499\n"
     ]
    }
   ],
   "source": [
    "thetaSolution = gradientDescent(alpha,itterations,theta)\n",
    "Jsol = computeJ(thetaSolution)\n",
    "print('\\u03B80=', thetaSolution[0], ',\\u03B81=',thetaSolution[1],'\\u03B82=', thetaSolution[2],'\\nJ(\\u03B8)=',Jsol)"
   ]
  },
  {
   "cell_type": "markdown",
   "metadata": {},
   "source": [
    "# Plot of the cost function according to number of itterations"
   ]
  },
  {
   "cell_type": "code",
   "execution_count": 16,
   "metadata": {
    "scrolled": false
   },
   "outputs": [
    {
     "data": {
      "image/png": "[encoded data removed]",
      "text/plain": [
       "<Figure size 432x288 with 1 Axes>"
      ]
     },
     "metadata": {
      "needs_background": "light"
     },
     "output_type": "display_data"
    }
   ],
   "source": [
    "plt.plot(J)\n",
    "plt.xlabel('number of itterations')\n",
    "plt.ylabel('Cost function J')\n",
    "plt.show()"
   ]
  },
  {
   "cell_type": "markdown",
   "metadata": {},
   "source": [
    "# Plot of fitting line and the data"
   ]
  },
  {
   "cell_type": "code",
   "execution_count": 18,
   "metadata": {},
   "outputs": [
    {
     "data": {
      "text/plain": [
       "<matplotlib.legend.Legend at 0x28e31c599a0>"
      ]
     },
     "execution_count": 18,
     "metadata": {},
     "output_type": "execute_result"
    },
    {
     "data": {
      "image/png": "[encoded data removed]",
      "text/plain": [
       "<Figure size 432x288 with 1 Axes>"
      ]
     },
     "metadata": {
      "needs_background": "light"
     },
     "output_type": "display_data"
    }
   ],
   "source": [
    "plt.plot(X[:,1],h(thetaSolution),label='fitting curve')\n",
    "plt.xlabel('x inputs')\n",
    "plt.ylabel('y outputs')\n",
    "plt.title('Fitting line and data')\n",
    "plt.plot(X[:,1], y, 'o',label='training data')\n",
    "plt.legend()"
   ]
  },
  {
   "cell_type": "markdown",
   "metadata": {},
   "source": [
    "# Performance of regression"
   ]
  },
  {
   "cell_type": "code",
   "execution_count": 19,
   "metadata": {},
   "outputs": [
    {
     "name": "stdout",
     "output_type": "stream",
     "text": [
      "The performance R is  0.9070555569145956\n"
     ]
    }
   ],
   "source": [
    "y_variance = len(y)*np.var(y)\n",
    "sum_squared_errors = (2*m)*computeJ(thetaSolution)\n",
    "Performance = 1 - ( sum_squared_errors )/(y_variance)\n",
    "print('The performance R is ',Performance)"
   ]
  },
  {
   "cell_type": "code",
   "execution_count": 6,
   "metadata": {},
   "outputs": [
    {
     "name": "stdout",
     "output_type": "stream",
     "text": [
      "input value : 20 \n",
      "Predicted output : [[393.4209807]]\n"
     ]
    }
   ],
   "source": [
    "input = 20\n",
    "print('input value :',input,'\\nPredicted output :',np.matrix((1,input,input**2))*thetaSolution)"
   ]
  },
  {
   "cell_type": "code",
   "execution_count": null,
   "metadata": {},
   "outputs": [],
   "source": []
  }
 ],
 "metadata": {
  "kernelspec": {
   "display_name": "Python 3",
   "language": "python",
   "name": "python3"
  },
  "language_info": {
   "codemirror_mode": {
    "name": "ipython",
    "version": 3
   },
   "file_extension": ".py",
   "mimetype": "text/x-python",
   "name": "python",
   "nbconvert_exporter": "python",
   "pygments_lexer": "ipython3",
   "version": "3.8.3"
  }
 },
 "nbformat": 4,
 "nbformat_minor": 4
}
